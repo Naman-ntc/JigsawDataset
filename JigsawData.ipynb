{
 "cells": [
  {
   "cell_type": "code",
   "execution_count": 1,
   "metadata": {},
   "outputs": [],
   "source": [
    "import json\n",
    "import urllib.request"
   ]
  },
  {
   "cell_type": "code",
   "execution_count": 2,
   "metadata": {},
   "outputs": [],
   "source": [
    "with urllib.request.urlopen(\"https://raw.githubusercontent.com/microsoft/JigsawDataset/main/datasets/PandasEval2.json\") as url:\n",
    "    data = json.loads(url.read().decode())\n"
   ]
  },
  {
   "cell_type": "markdown",
   "metadata": {},
   "source": [
    "<!--\n",
    "# 0 :  Rename column 'a' to 'Person Name' and column 'b' to 'Credit' in dfin and assign to dfout\n",
    "# 1 :  Filter rows where value1 is divisible by 3 in dfin and assign to dfout\n",
    "# 2 :  Concatenate dfin 3 times and assign to dfout\n",
    "# 3 :  Get fourth value from column 'C' in dfin and assign to dfout\n",
    "# 4 :  Filter all rows with alpha less than 40 or greater than 59 from dfin\n",
    "# 5 :  Filter all rows with alpha less than 40 or greater than 59 and filter all rows with beta equal to 3 from dfin\n",
    "# 6 :  filter all rows in 'dfin1' where value in column 'alpha' is not present in column 'alpha' of 'dfin2'\n",
    "# 7 :  filter all rows where value in column 'foo' is less than 40 or greater than 50 and value in column 'bar' is not equal to 8\n",
    "# 8 :  take average of the previous 3 rows for each row of column 'a' except 1 and 2 row and assign back to 'a'\n",
    "# 9 :  join 'dfin1' and 'dfin2' column 'Type1' equals 'Type2' and 'Date1' equals 'Date2'\n",
    "# 10 :  remove NaN values from \"delta\" and \"phi\" columns\n",
    "# 11 :  in dataframe 'dfin' replace 'United States' in 'location' column with value 'US' and replace '3434' in 'zip' column with '4343'\n",
    "# 12 :  sort 'dfin' by index in ascending order\n",
    "# 13 :  create dataframe with values from column 'val' in dataframe dfin with values from column 'who' as the index and values from column 'timestamp' as the column\n",
    "# 14 :  convert unique values in column 'target' to numeric encoding\n",
    "# 15 :  count of duplicate rows\n",
    "# 16 :  Keep only one row per unique value of column 'f2' in dataframe 'dfin'\n",
    "# 17 :  In dataframe 'dfin' change values smaller than 10 to 10\n",
    "# 18 :  Given a dataframe dfin, remove all rows where there exists a cell with value '-'\n",
    "# 19 :  Remove rows from dataframe 'data' that are present in dataframe 'test'\n",
    "20 :  Get the argmax of the first 3 columns for each row and assign it to a new column 'Pred'\n",
    "-->\n",
    "## Semantic mappings of the 21 tasks\n",
    "* 0: rename columns\n",
    "* 1: filter rows based on column % number\n",
    "* 2: repeat rows n times\n",
    "* 3: get nth value from column\n",
    "* 4: filter rows if value in range\n",
    "* 5: filter rows if col1 value in range and col2 value equal constant\n",
    "* 6: filter rows in df1 if same row in df2 present\n",
    "* 7: filter rows if col1 value out of range and col2 value not equal constant\n",
    "* 8: update with rolling average\n",
    "* 9: join on multiple columns\n",
    "* 10: remove NaN values\n",
    "* 11: replace values in column\n",
    "* 12: sort by index\n",
    "* 13: pivot table\n",
    "* 14: encode categorical values\n",
    "* 15: count duplicates\n",
    "* 16: remove duplicates\n",
    "* 17: clip\n",
    "* 18: remove rows where any value is some constant\n",
    "* 19: remove rows in df1 if same row in df2 present\n",
    "* 20: get argmax of first n columns\n",
    "\n",
    "##### FUN fact -- generated these mappings from copilot itself!!! :)\n",
    "How? -- I added user queries as comments and prompted copilot to describe the task by giving examples\n",
    "\n",
    "#### Interesting tasks\n",
    "['2', '8', '9', '10', '13', '14',  '15', '16', '17', '18', '19', '20']"
   ]
  },
  {
   "cell_type": "code",
   "execution_count": 20,
   "metadata": {},
   "outputs": [],
   "source": [
    "# total = 0\n",
    "# for i in range(21):\n",
    "#     sets = data[f\"{i}\"]['sets']\n",
    "#     queries = sum([v['queries'] for _,v in sets.items()],[])\n",
    "#     print(i, \": \", queries[0]['query'])\n",
    "#     total += len(queries)\n",
    "# print(total)"
   ]
  },
  {
   "cell_type": "code",
   "execution_count": 4,
   "metadata": {},
   "outputs": [],
   "source": [
    "def getAllQueriesForTask(task):\n",
    "    sets = data[f\"{task}\"]['sets']\n",
    "    queries = [x['query'] for x in sum([v['queries'] for _,v in sets.items()],[])]\n",
    "    print(f\"Found {len(queries)} queries for task {task}\")\n",
    "    return queries"
   ]
  },
  {
   "cell_type": "code",
   "execution_count": 5,
   "metadata": {},
   "outputs": [
    {
     "name": "stdout",
     "output_type": "stream",
     "text": [
      "Found 4 queries for task 13\n",
      "create dataframe with values from column 'val' in dataframe dfin with values from column 'who' as the index and values from column 'timestamp' as the column\n",
      "create dataframe with values from column 'val' in dataframe dfin with unique values from column 'who' as the index and unique values from column 'timestamp' as the column\n",
      "create new dataframe from dataframe dfin with 'timestamp' as the columns, 'who' as the rows and values from 'val'\n",
      "Pivot dfin on column 'date'\n"
     ]
    }
   ],
   "source": [
    "for q in getAllQueriesForTask(13):\n",
    "    print(q)"
   ]
  },
  {
   "cell_type": "code",
   "execution_count": 6,
   "metadata": {},
   "outputs": [
    {
     "name": "stdout",
     "output_type": "stream",
     "text": [
      "Found 66 queries for task 17\n",
      "In dataframe 'dfin' change values smaller than 10 to 10\n",
      "In dataframe 'dfin' replace values smaller than 10 to 10\n",
      "In dataframe 'dfin' set values that are smaller than 10 to 10\n",
      "In column 'f2' in dataframe 'dfin' set values that are smaller than 10 to 10\n",
      "In column 'f2' in dataframe 'dfin' set values that are smaller than 10 to 10 inplace\n",
      "Modify values in column 'f2' in dataframe 'dfin' that are smaller than 10 to the value 10\n",
      "find values in column 'f2' in dataframe 'dfin' that are smaller than 10 and change those values to 10\n",
      "find values in column 'f2' in dataframe 'dfin' that are smaller than 10 and replace them with 10\n",
      "change ftr2 column values to 5 if they are less than 5\n",
      "select all rows and change ftr2 column values to 5 if they are less than 5\n",
      "select all rows and change \"ftr2\" column value to 5 if value is less than 5\n",
      "change \"ftr2\" column value to 5 if value is less than 5\n",
      "if \"ftr2\" value is less than 5 then change it to 5\n",
      "if \"ftr2\" value is less than 5 then change it to 5 and return all rows\n",
      "for val in \"ft2\" val=5 if val<5\n",
      "if val of \"ftr2\" <5 then val=5\n",
      "select rows and change value of \"ftr2\" column if less than 5 to 5\n",
      "inplace transform of ftr2 columns if value less than 5 to 5\n",
      "replace values less than 5 with 5 in \"ftr2\" column in dfin\n",
      "replace values less than 5 with 5 in \"ftr2\" column in dfin inplace return dfin\n",
      "for each row replace ftr2 value if less than 5 with 5\n",
      "If value of 'feat2' in greater than 10, replace it with 10\n",
      "If value of 'feat2' is greater than 10, replace it with 10\n",
      "Limit the value in column 'feat2' to 10\n",
      "Given a dataframe dfin, if 'feat2' is greater than 10, replace the cell value to 10\n",
      "Given a dataframe dfin, if 'feat2' is greater than 10 replace the cell value to 10\n",
      "Replace all values in 'feat2' greater than '10' with '10'\n",
      "Replace all values in 'feat2' greater than 10 with 10\n",
      "Convert negative numberts to 0 in 'inp2'\n",
      "Convert negative numberts of 'dfin' to 0 in column 'inp2'\n",
      "Convert negative numberts to 0 in column 'inp2'\n",
      "Convert negative numbers of 'dfin' to 0 in column 'inp2'\n",
      "Change value of column 'inp2' to 0 if value of column 'inp2' is less than 0\n",
      "replace negative values in 'inp2' by 0\n",
      "if 'inp2'<0 then 'inp2'=0\n",
      "replace 'inp2' by 0 if 'inp2' less than 0\n",
      "replace column 'inp2' in 'dfin' with 0 if 'inp2' less than 0\n",
      "replace values in column 'inp2' in 'dfin' with 0 if 'inp2' less than 0\n",
      "replace values in column 'inp2' in table 'dfin' with 0 if 'inp2' less than 0\n",
      "copy dfin to dfout; replace negative values in column 'inp2' by 0\n",
      "replace value in column 'inp2' with 0 if value is less than 0\n",
      "replace elements that are greater than 0 with 0 in column 'inputB'\n",
      "replace positive elements with 0 in column 'inputB'\n",
      "replace positive elements by 0 in column 'inputB'\n",
      "replace elements greater than 0 by 0 in column 'inputB'\n",
      "replace elements greater than 0 by zero in column 'inputB'\n",
      "in column 'inputB', replace elements greater than 0 by zero\n",
      "in column 'inputB', replace positive values by zero\n",
      "replace positive values in column 'inputB' by zero\n",
      "replace positive values in column 'inputB' by zero'\n",
      "if value in column 'inputB' > 0 replace with 0\n",
      "replace value in column 'inputB' with 0 if value > 0\n",
      "replace positive vlues of column 'inputB' with 0\n",
      "replace positive values of column 'inputB' to '0'\n",
      "set positive values in column 'inputB' to '0'\n",
      "Set inputB=0 if inputB<0\n",
      "replace inputB with 0 if inputB>0\n",
      "set inputB as 0 if inputB>0\n",
      "Replace column 'inputB' with 0 if inputB>0\n",
      "Replace 'inputB' with 0 if inputB>0\n",
      "Replace 'inputB' with 0 if inputB is positive\n",
      "if inputB>0 set inputB=0\n",
      "if inputB>0 update inputB=0\n",
      "replace values greater than 0 with 0 in 'inputB' column in 'dfin'\n",
      "update values greater than 0 in 'inputB' column with 0\n",
      "'inputB' = 0 if 'inputB' > 0 in dfin\n"
     ]
    }
   ],
   "source": [
    "for q in getAllQueriesForTask(17):\n",
    "    print(q)"
   ]
  },
  {
   "cell_type": "code",
   "execution_count": 49,
   "metadata": {},
   "outputs": [],
   "source": [
    "CLUSTER = True\n",
    "if CLUSTER:\n",
    "    import re\n",
    "    numRegex = '\\d+\\.?\\d*'\n",
    "\n",
    "    from sentence_transformers import SentenceTransformer\n",
    "    from sklearn.cluster import AgglomerativeClustering\n",
    "    import numpy as np\n",
    "    import torch\n",
    "\n",
    "    embedder = SentenceTransformer('all-MiniLM-L6-v2').to(torch.device('mps'))\n",
    "\n",
    "\n",
    "\n",
    "def getAllQueriesForTask(task):\n",
    "    sets = data[f\"{task}\"]['sets']\n",
    "    queries = [x['query'] for x in sum([v['queries'] for _,v in sets.items()],[])]\n",
    "    print(f\"Found {len(queries)} queries for task {task}\")\n",
    "    if not CLUSTER: return queries\n",
    "    queries = [re.sub(numRegex, '[NUM]', q) for q in queries]\n",
    "    queryEmbeddings = embedder.encode(queries)\n",
    "\n",
    "    clustering_model = AgglomerativeClustering(n_clusters=None, distance_threshold=0.8) #, affinity='cosine', linkage='average', distance_threshold=0.4)\n",
    "    clustering_model.fit(queryEmbeddings)\n",
    "    labels = clustering_model.labels_\n",
    "        # get 1 element for each cluster\n",
    "    cluster = {}\n",
    "    for i in range(len(labels)):\n",
    "        if labels[i] not in cluster:\n",
    "            cluster[labels[i]] = queries[i]\n",
    "    print(f\"Found {len(cluster)} clusters\")\n",
    "    return cluster.values()"
   ]
  },
  {
   "cell_type": "code",
   "execution_count": 52,
   "metadata": {},
   "outputs": [
    {
     "name": "stdout",
     "output_type": "stream",
     "text": [
      "Found 29 queries for task 9\n",
      "Found 9 clusters\n",
      "join 'dfin[NUM]' and 'dfin[NUM]' column 'Type[NUM]' equals 'Type[NUM]' and 'Date[NUM]' equals 'Date[NUM]'\n",
      "Filter when values in column 'Date[NUM]' in dfin[NUM] and values in column 'Date[NUM]' in dfin[NUM] are equal'\n",
      "Get all columns from dfin[NUM] and dfin[NUM] with columns 'Type[NUM]' and 'Type[NUM]' have same value and columns 'Date[NUM]' and 'Date[NUM]' have same value\n",
      "Merge dfin[NUM] and dfin[NUM] where columns 'Type[NUM]' and 'Type[NUM]' are equal and columns 'Date[NUM]' and 'Date[NUM]' are equal\n",
      "join dataframe dfin[NUM] and dataframe dfin[NUM] on key[NUM] and key[NUM]\n",
      "Inner Join on 'key[NUM]' and 'key[NUM]'\n",
      "join rows with same \"lkey\" and \"rkey\" values\n",
      "merge columns on \"lkey\" dfin[NUM] and \"rkey\" dfin[NUM]\n",
      "calculate intersection of dfin[NUM] and dfin[NUM] where 'lkey' = 'rkey'\n"
     ]
    }
   ],
   "source": [
    "for q in getAllQueriesForTask(9):\n",
    "    print(q)"
   ]
  },
  {
   "cell_type": "code",
   "execution_count": null,
   "metadata": {},
   "outputs": [],
   "source": []
  },
  {
   "cell_type": "code",
   "execution_count": null,
   "metadata": {},
   "outputs": [],
   "source": []
  }
 ],
 "metadata": {
  "kernelspec": {
   "display_name": "Python 3.10.6 64-bit ('miniforge3')",
   "language": "python",
   "name": "python3"
  },
  "language_info": {
   "codemirror_mode": {
    "name": "ipython",
    "version": 3
   },
   "file_extension": ".py",
   "mimetype": "text/x-python",
   "name": "python",
   "nbconvert_exporter": "python",
   "pygments_lexer": "ipython3",
   "version": "3.10.6"
  },
  "orig_nbformat": 4,
  "vscode": {
   "interpreter": {
    "hash": "f4cee63bcaf7f7be1b517820763421612b24d83dc38293874ded23f8dd8fe86e"
   }
  }
 },
 "nbformat": 4,
 "nbformat_minor": 2
}
